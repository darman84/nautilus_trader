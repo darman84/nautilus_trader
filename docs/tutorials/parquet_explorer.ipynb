{
 "cells": [
  {
   "cell_type": "markdown",
   "id": "0",
   "metadata": {},
   "source": [
    "# Parquet Explorer\n",
    "\n",
    "This tutorial explores some basic query operations on Parquet files written by Nautilus. We'll utilize both the `datafusio`n and `pyarrow` libraries.\n",
    "\n",
    "Before proceeding, ensure that you have `datafusion` installed. If not, you can install it by running:\n",
    "```bash\n",
    "pip install datafusion\n",
    "```"
   ]
  },
  {
   "cell_type": "code",
   "execution_count": 1,
   "id": "1",
   "metadata": {
    "editable": true,
    "slideshow": {
     "slide_type": ""
    },
    "tags": []
   },
   "outputs": [],
   "source": [
    "import datafusion\n",
    "import pyarrow.parquet as pq"
   ]
  },
  {
   "cell_type": "code",
   "execution_count": 2,
   "id": "2",
   "metadata": {},
   "outputs": [],
   "source": [
    "trade_tick_path = \"../../tests/test_data/nautilus/trades.parquet\"\n",
    "bar_path = \"../../tests/test_data/nautilus/bars.parquet\""
   ]
  },
  {
   "cell_type": "code",
   "execution_count": 3,
   "id": "3",
   "metadata": {},
   "outputs": [],
   "source": [
    "# Create a context\n",
    "ctx = datafusion.SessionContext()"
   ]
  },
  {
   "cell_type": "code",
   "execution_count": 4,
   "id": "4",
   "metadata": {},
   "outputs": [],
   "source": [
    "# Run this cell once (otherwise will error)\n",
    "ctx.register_parquet(\"trade_0\", trade_tick_path)\n",
    "ctx.register_parquet(\"bar_0\", bar_path)"
   ]
  },
  {
   "cell_type": "markdown",
   "id": "5",
   "metadata": {},
   "source": [
    "### TradeTick data"
   ]
  },
  {
   "cell_type": "code",
   "execution_count": 5,
   "id": "6",
   "metadata": {},
   "outputs": [],
   "source": [
    "query = \"SELECT * FROM trade_0 ORDER BY ts_init\"\n",
    "df = ctx.sql(query)"
   ]
  },
  {
   "cell_type": "code",
   "execution_count": 6,
   "id": "7",
   "metadata": {},
   "outputs": [
    {
     "data": {
      "text/plain": [
       "price: int64 not null\n",
       "size: uint64 not null\n",
       "aggressor_side: uint8 not null\n",
       "trade_id: string not null\n",
       "ts_event: uint64 not null\n",
       "ts_init: uint64 not null"
      ]
     },
     "execution_count": 6,
     "metadata": {},
     "output_type": "execute_result"
    }
   ],
   "source": [
    "df.schema()"
   ]
  },
  {
   "cell_type": "code",
   "execution_count": 7,
   "id": "8",
   "metadata": {},
   "outputs": [
    {
     "data": {
      "text/html": [
       "<table border='1'>\n",
       "<tr><th>price</td><th>size</td><th>aggressor_side</td><th>trade_id</td><th>ts_event</td><th>ts_init</td></tr>\n",
       "<tr><td>1234000000</td><td>5000000000</td><td>1</td><td>123456</td><td>0</td><td>0</td></tr>\n",
       "<tr><td>1234000000</td><td>5000000000</td><td>1</td><td>123456</td><td>0</td><td>0</td></tr>\n",
       "<tr><td>1234000000</td><td>5000000000</td><td>1</td><td>123456</td><td>0</td><td>0</td></tr>\n",
       "<tr><td>1234000000</td><td>5000000000</td><td>1</td><td>123456</td><td>0</td><td>0</td></tr>\n",
       "<tr><td>1234000000</td><td>5000000000</td><td>1</td><td>123456</td><td>0</td><td>0</td></tr>\n",
       "<tr><td>1234000000</td><td>5000000000</td><td>1</td><td>123456</td><td>0</td><td>0</td></tr>\n",
       "<tr><td>1234000000</td><td>5000000000</td><td>1</td><td>123456</td><td>0</td><td>0</td></tr>\n",
       "<tr><td>1234000000</td><td>5000000000</td><td>1</td><td>123456</td><td>0</td><td>0</td></tr>\n",
       "<tr><td>1234000000</td><td>5000000000</td><td>1</td><td>123456</td><td>0</td><td>0</td></tr>\n",
       "<tr><td>1234000000</td><td>5000000000</td><td>1</td><td>123456</td><td>0</td><td>0</td></tr>\n",
       "</table>\n"
      ],
      "text/plain": [
       "DataFrame()\n",
       "+------------+------------+----------------+----------+----------+---------+\n",
       "| price      | size       | aggressor_side | trade_id | ts_event | ts_init |\n",
       "+------------+------------+----------------+----------+----------+---------+\n",
       "| 1234000000 | 5000000000 | 1              | 123456   | 0        | 0       |\n",
       "| 1234000000 | 5000000000 | 1              | 123456   | 0        | 0       |\n",
       "| 1234000000 | 5000000000 | 1              | 123456   | 0        | 0       |\n",
       "| 1234000000 | 5000000000 | 1              | 123456   | 0        | 0       |\n",
       "| 1234000000 | 5000000000 | 1              | 123456   | 0        | 0       |\n",
       "| 1234000000 | 5000000000 | 1              | 123456   | 0        | 0       |\n",
       "| 1234000000 | 5000000000 | 1              | 123456   | 0        | 0       |\n",
       "| 1234000000 | 5000000000 | 1              | 123456   | 0        | 0       |\n",
       "| 1234000000 | 5000000000 | 1              | 123456   | 0        | 0       |\n",
       "| 1234000000 | 5000000000 | 1              | 123456   | 0        | 0       |\n",
       "+------------+------------+----------------+----------+----------+---------+"
      ]
     },
     "execution_count": 7,
     "metadata": {},
     "output_type": "execute_result"
    }
   ],
   "source": [
    "df"
   ]
  },
  {
   "cell_type": "code",
   "execution_count": 8,
   "id": "9",
   "metadata": {},
   "outputs": [],
   "source": [
    "table = pq.read_table(trade_tick_path)"
   ]
  },
  {
   "cell_type": "code",
   "execution_count": 9,
   "id": "10",
   "metadata": {},
   "outputs": [
    {
     "data": {
      "text/plain": [
       "price: int64 not null\n",
       "size: uint64 not null\n",
       "aggressor_side: uint8 not null\n",
       "trade_id: string not null\n",
       "ts_event: uint64 not null\n",
       "ts_init: uint64 not null\n",
       "-- schema metadata --\n",
       "instrument_id: 'EUR/USD.SIM'\n",
       "price_precision: '4'\n",
       "size_precision: '4'"
      ]
     },
     "execution_count": 9,
     "metadata": {},
     "output_type": "execute_result"
    }
   ],
   "source": [
    "table.schema"
   ]
  },
  {
   "cell_type": "markdown",
   "id": "11",
   "metadata": {},
   "source": [
    "### Bar data"
   ]
  },
  {
   "cell_type": "code",
   "execution_count": 10,
   "id": "12",
   "metadata": {},
   "outputs": [],
   "source": [
    "query = \"SELECT * FROM bar_0 ORDER BY ts_init\"\n",
    "df = ctx.sql(query)"
   ]
  },
  {
   "cell_type": "code",
   "execution_count": 11,
   "id": "13",
   "metadata": {},
   "outputs": [
    {
     "data": {
      "text/plain": [
       "open: int64 not null\n",
       "high: int64 not null\n",
       "low: int64 not null\n",
       "close: int64 not null\n",
       "volume: uint64 not null\n",
       "ts_event: uint64 not null\n",
       "ts_init: uint64 not null"
      ]
     },
     "execution_count": 11,
     "metadata": {},
     "output_type": "execute_result"
    }
   ],
   "source": [
    "df.schema()"
   ]
  },
  {
   "cell_type": "code",
   "execution_count": 12,
   "id": "14",
   "metadata": {},
   "outputs": [
    {
     "data": {
      "text/html": [
       "<table border='1'>\n",
       "<tr><th>open</td><th>high</td><th>low</td><th>close</td><th>volume</td><th>ts_event</td><th>ts_init</td></tr>\n",
       "<tr><td>28530</td><td>28540</td><td>28510</td><td>28540</td><td>36304200000000</td><td>1637971200000000000</td><td>1637971200000000000</td></tr>\n",
       "<tr><td>28540</td><td>28600</td><td>28540</td><td>28590</td><td>89196600000000</td><td>1637971260000000000</td><td>1637971260000000000</td></tr>\n",
       "<tr><td>28590</td><td>28600</td><td>28570</td><td>28590</td><td>26547300000000</td><td>1637971320000000000</td><td>1637971320000000000</td></tr>\n",
       "<tr><td>28580</td><td>28620</td><td>28490</td><td>28570</td><td>162305700000000</td><td>1637971380000000000</td><td>1637971380000000000</td></tr>\n",
       "<tr><td>28560</td><td>28570</td><td>28540</td><td>28550</td><td>4213900000000</td><td>1637971440000000000</td><td>1637971440000000000</td></tr>\n",
       "<tr><td>28540</td><td>28580</td><td>28540</td><td>28570</td><td>7530200000000</td><td>1637971500000000000</td><td>1637971500000000000</td></tr>\n",
       "<tr><td>28580</td><td>28590</td><td>28570</td><td>28580</td><td>3764000000000</td><td>1637971560000000000</td><td>1637971560000000000</td></tr>\n",
       "<tr><td>28570</td><td>28620</td><td>28550</td><td>28620</td><td>42475400000000</td><td>1637971620000000000</td><td>1637971620000000000</td></tr>\n",
       "<tr><td>28620</td><td>28630</td><td>28610</td><td>28630</td><td>4470200000000</td><td>1637971680000000000</td><td>1637971680000000000</td></tr>\n",
       "<tr><td>28630</td><td>28650</td><td>28630</td><td>28650</td><td>8160500000000</td><td>1637971740000000000</td><td>1637971740000000000</td></tr>\n",
       "</table>\n"
      ],
      "text/plain": [
       "DataFrame()\n",
       "+-------+-------+-------+-------+-----------------+---------------------+---------------------+\n",
       "| open  | high  | low   | close | volume          | ts_event            | ts_init             |\n",
       "+-------+-------+-------+-------+-----------------+---------------------+---------------------+\n",
       "| 28530 | 28540 | 28510 | 28540 | 36304200000000  | 1637971200000000000 | 1637971200000000000 |\n",
       "| 28540 | 28600 | 28540 | 28590 | 89196600000000  | 1637971260000000000 | 1637971260000000000 |\n",
       "| 28590 | 28600 | 28570 | 28590 | 26547300000000  | 1637971320000000000 | 1637971320000000000 |\n",
       "| 28580 | 28620 | 28490 | 28570 | 162305700000000 | 1637971380000000000 | 1637971380000000000 |\n",
       "| 28560 | 28570 | 28540 | 28550 | 4213900000000   | 1637971440000000000 | 1637971440000000000 |\n",
       "| 28540 | 28580 | 28540 | 28570 | 7530200000000   | 1637971500000000000 | 1637971500000000000 |\n",
       "| 28580 | 28590 | 28570 | 28580 | 3764000000000   | 1637971560000000000 | 1637971560000000000 |\n",
       "| 28570 | 28620 | 28550 | 28620 | 42475400000000  | 1637971620000000000 | 1637971620000000000 |\n",
       "| 28620 | 28630 | 28610 | 28630 | 4470200000000   | 1637971680000000000 | 1637971680000000000 |\n",
       "| 28630 | 28650 | 28630 | 28650 | 8160500000000   | 1637971740000000000 | 1637971740000000000 |\n",
       "+-------+-------+-------+-------+-----------------+---------------------+---------------------+"
      ]
     },
     "execution_count": 12,
     "metadata": {},
     "output_type": "execute_result"
    }
   ],
   "source": [
    "df"
   ]
  },
  {
   "cell_type": "code",
   "execution_count": 13,
   "id": "15",
   "metadata": {},
   "outputs": [
    {
     "data": {
      "text/plain": [
       "open: int64 not null\n",
       "high: int64 not null\n",
       "low: int64 not null\n",
       "close: int64 not null\n",
       "volume: uint64 not null\n",
       "ts_event: uint64 not null\n",
       "ts_init: uint64 not null\n",
       "-- schema metadata --\n",
       "price_precision: '8'\n",
       "size_precision: '8'\n",
       "bar_type: 'ADABTC.BINANCE-1-MINUTE-LAST-EXTERNAL'\n",
       "instrument_id: 'ADABTC.BINANCE'"
      ]
     },
     "execution_count": 13,
     "metadata": {},
     "output_type": "execute_result"
    }
   ],
   "source": [
    "table = pq.read_table(bar_path)\n",
    "table.schema"
   ]
  },
  {
   "cell_type": "code",
   "execution_count": null,
   "id": "16",
   "metadata": {},
   "outputs": [],
   "source": []
  }
 ],
 "metadata": {
  "kernelspec": {
   "display_name": "nautilus-env",
   "language": "python",
   "name": "python3"
  },
  "language_info": {
   "codemirror_mode": {
    "name": "ipython",
    "version": 3
   },
   "file_extension": ".py",
   "mimetype": "text/x-python",
   "name": "python",
   "nbconvert_exporter": "python",
   "pygments_lexer": "ipython3",
   "version": "3.11.10"
  }
 },
 "nbformat": 4,
 "nbformat_minor": 5
}
